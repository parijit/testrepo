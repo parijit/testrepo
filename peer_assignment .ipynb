{
  "metadata": {
    "language_info": {
      "codemirror_mode": {
        "name": "python",
        "version": 3
      },
      "file_extension": ".py",
      "mimetype": "text/x-python",
      "name": "python",
      "nbconvert_exporter": "python",
      "pygments_lexer": "ipython3",
      "version": "3.8"
    },
    "kernelspec": {
      "name": "python",
      "display_name": "Pyolite",
      "language": "python"
    }
  },
  "nbformat_minor": 4,
  "nbformat": 4,
  "cells": [
    {
      "cell_type": "markdown",
      "source": "# Peer_assignment",
      "metadata": {}
    },
    {
      "cell_type": "markdown",
      "source": "## this is the introduction to the peer assignment submitted. Do grace me with marks.",
      "metadata": {}
    },
    {
      "cell_type": "markdown",
      "source": "### Datascience languages list:\n* Python\n* R\n* SQL\n* Scala\n* Java\n* Julia\n* C++\n* Perl",
      "metadata": {}
    },
    {
      "cell_type": "markdown",
      "source": "### List of some data science libraries:\n* NLTK\n* Tensorflow\n* Pandas\n* Scipy\n* GGplot\n* Numpy\n* scikit learn\n* Dplyr\n* Tidyverse\n* TidyText\n* Matplotlib\n* Math\n",
      "metadata": {}
    },
    {
      "cell_type": "markdown",
      "source": "### This is the table of Data science Tools:\n* Tableu\n* Google Colab\n* Watson\n* Jupyter notebook\n* JupyterLab\n* MS PowerBI\n* RStudio\n* Apache Spark\n* SPSS\n* SAS\n* SPreadsheets\n* KNIME",
      "metadata": {}
    },
    {
      "cell_type": "markdown",
      "source": "### Markdown for arethmetic examples:\n* 2*2 \n* 2+4\n* 2/4\n* 2//4\n* 2-4",
      "metadata": {}
    },
    {
      "cell_type": "code",
      "source": "#code cell to multiply numbers\n2*2",
      "metadata": {
        "trusted": true
      },
      "execution_count": 4,
      "outputs": [
        {
          "execution_count": 4,
          "output_type": "execute_result",
          "data": {
            "text/plain": "4"
          },
          "metadata": {}
        }
      ]
    },
    {
      "cell_type": "code",
      "source": "#code cell to add numbers \n99+1",
      "metadata": {
        "trusted": true
      },
      "execution_count": 5,
      "outputs": [
        {
          "execution_count": 5,
          "output_type": "execute_result",
          "data": {
            "text/plain": "100"
          },
          "metadata": {}
        }
      ]
    },
    {
      "cell_type": "code",
      "source": "minutes = 100\nhours = minutes//60\nminutes = minutes%60\ntime = \"{}:{}\".format(hours,minutes)\nprint(time)",
      "metadata": {
        "trusted": true
      },
      "execution_count": 11,
      "outputs": [
        {
          "name": "stdout",
          "text": "1:40\n",
          "output_type": "stream"
        }
      ]
    },
    {
      "cell_type": "markdown",
      "source": "### Markdown for objectives\n* Exercise 2 - Create a markdown cell with the title of the notebook. (1 pt)\n\n* Exercise 3 - Create a markdown cell for an introduction. (1 pt)\n\n* Exercise 4 - Create a markdown cell to list data science languages. (3 pts)\n\n* Exercise 5 - Create a markdown cell to list data science libraries. (3 pts)\n\n* Exercise 6 - Create a markdown cell with a table of Data Science tools. (3 pts)\n\n* Exercise 7 - Create a markdown cell introducing arithmetic expression examples. (1 pt)\n\n* Exercise 8 - Create a code cell to multiply and add numbers. (2 pts)\n\n* Exercise 9 - Create a code cell to convert minutes to hours. (2 pts)\n\n* Exercise 10 -Insert a markdown cell to list Objectives. (3 pts)\n\n* Exercise 11 - Create a markdown cell to indicate the Author’s name. (2 pts)\n\n* Exercise 12 - Share your notebook through GitHub (3 pts)\n\n* Exercise 13 - Take a screenshot of the first page of the notebook. (1 pt)",
      "metadata": {}
    }
  ]
}